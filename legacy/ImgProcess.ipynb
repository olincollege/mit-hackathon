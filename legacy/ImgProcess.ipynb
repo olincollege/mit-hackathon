{
 "cells": [
  {
   "cell_type": "code",
   "execution_count": 2,
   "metadata": {},
   "outputs": [],
   "source": [
    "import retrace_nodes as rn\n",
    "\n",
    "node_list = \"\"\"\n",
    "[\n",
    "    {\n",
    "        'uuid': 'abc123',\n",
    "        'metadata': {\n",
    "            'Restrooms': 'right',\n",
    "            'Restaurant': 'ahead',\n",
    "            'Gate_C20': 'left',\n",
    "            'Terminals': 'left',\n",
    "            'Concourses': 'left',\n",
    "            'Baggage_Claim': 'left'\n",
    "        },\n",
    "        'node_name': 'gate1',\n",
    "        'timestamp': '2024-02-25 08:00:00',\n",
    "        'connected_time': '2024-02-25 08:00:10',\n",
    "        'disconnected_time': '2024-02-25 08:01:10'\n",
    "    },\n",
    "    {\n",
    "        'uuid': 'def456',\n",
    "        'metadata': {\n",
    "            'Telephones': 'left',\n",
    "            'Restrooms': 'right',\n",
    "            'Gate_C20': 'left',\n",
    "            'Terminals': 'right',\n",
    "            'Ground_Transport': 'ahead'\n",
    "        },\n",
    "        'node_name': 'exit',\n",
    "        'timestamp': '2024-02-25 08:15:00',\n",
    "        'connected_time': '2024-02-25 08:15:20',\n",
    "        'disconnected_time': '2024-02-25 08:16:20'\n",
    "    },\n",
    "    {\n",
    "        'uuid': 'ghi789',\n",
    "        'metadata': {\n",
    "            'Customer_Service_Center': 'right',\n",
    "            'Telephones': 'right',\n",
    "            'Restaurant': 'left',\n",
    "            'Gate_C20': 'left',\n",
    "            'Concourses': 'right',\n",
    "            'Baggage_Claim': 'right',\n",
    "            'Ground_Transport': 'right'\n",
    "        },\n",
    "        'node_name': 'gate43',\n",
    "        'timestamp': '2024-02-25 08:30:00',\n",
    "        'connected_time': '2024-02-25 08:30:30',\n",
    "        'disconnected_time': '2024-02-25 08:31:30'\n",
    "    },\n",
    "    {\n",
    "        'uuid': 'jkl012',\n",
    "        'metadata': {\n",
    "            'Telephones': 'ahead',\n",
    "            'Restrooms': 'right',\n",
    "            'Restaurant': 'ahead',\n",
    "            'Gate_C20': 'right',\n",
    "            'Gates_C18_C18A': 'left',\n",
    "            'Ground_Transport': 'left'\n",
    "        },\n",
    "        'node_name': 'gate27',\n",
    "        'timestamp': '2024-02-25 09:00:00',\n",
    "        'connected_time': '2024-02-25 09:00:45',\n",
    "        'disconnected_time': '2024-02-25 09:01:45'\n",
    "    },\n",
    "    {\n",
    "        'uuid': 'mno345',\n",
    "        'metadata': {\n",
    "            'Customer_Service_Center': 'ahead',\n",
    "            'Restrooms': 'left',\n",
    "            'Gate_C20': 'ahead',\n",
    "            'Terminals': 'left',\n",
    "            'Concourses': 'right',\n",
    "            'Ground_Transport': 'right'\n",
    "        },\n",
    "        'node_name': 'exit',\n",
    "        'timestamp': '2024-02-25 09:30:00',\n",
    "        'connected_time': '2024-02-25 09:30:15',\n",
    "        'disconnected_time': '2024-02-25 09:31:15'\n",
    "    }\n",
    "]\n",
    "\"\"\"\n",
    "\n",
    "question = \"Did I pass by a telephone?\"\n",
    "answer = rn.general_prompt(node_list, question)\n"
   ]
  },
  {
   "cell_type": "code",
   "execution_count": 11,
   "metadata": {},
   "outputs": [
    {
     "data": {
      "text/plain": [
       "'The nearest telephone is located in gate 27, which you passed before exiting and after gate 43.'"
      ]
     },
     "execution_count": 11,
     "metadata": {},
     "output_type": "execute_result"
    }
   ],
   "source": [
    "answer['choices'][0][\"message\"][\"content\"]\n"
   ]
  },
  {
   "cell_type": "code",
   "execution_count": 59,
   "metadata": {},
   "outputs": [],
   "source": [
    "# prompt = \"Please examine the image and provide the directions to objects present in it, relative to my point of view, in a JSON format. The JSON file should look like `{\\\"restaurant\\\" : \\\"right\\\", \\\"parking\\\" : \\\"ahead\\\", \\\"seating\\\" : \\\"left\\\"}. Include facilities such as restrooms, elevators, information desks, exits, restaurants, and any transportation services like taxi stands or railway stations if visible. Also include any other relevant information regarding facilities. Do not include information about people, the general environment, or decorative elements. Be specific with the names of different locations. If the object is not visible don't include it in the JSON. For any signs, give direction direction according to the arrow, if there's no arrow present, just say here. Double check each entry in the JSON to make sure it is in the image\"\n",
    "\n",
    "# headers = {\n",
    "#   \"Content-Type\": \"application/json\",\n",
    "#   \"Authorization\": f\"Bearer {api_key}\"\n",
    "# }\n",
    "\n",
    "# payload = {\n",
    "#   \"model\": \"gpt-4-vision-preview\",\n",
    "#   \"messages\": [\n",
    "#     {\n",
    "#       \"role\": \"user\",\n",
    "#       \"content\": [\n",
    "#         {\n",
    "#           \"type\": \"text\",\n",
    "#           \"text\": f\"{prompt}\"\n",
    "#         },\n",
    "#         {\n",
    "#           \"type\": \"image_url\",\n",
    "#           \"image_url\": {\n",
    "#             \"url\": f\"data:image/jpeg;base64,{base64_img}\"\n",
    "#           }\n",
    "#         }\n",
    "#       ]\n",
    "#     }\n",
    "#   ],\n",
    "#   \"max_tokens\": 300\n",
    "# }\n",
    "\n",
    "# response = requests.post(\"https://api.openai.com/v1/chat/completions\", headers=headers, json=payload)"
   ]
  },
  {
   "cell_type": "code",
   "execution_count": 63,
   "metadata": {},
   "outputs": [
    {
     "name": "stdout",
     "output_type": "stream",
     "text": [
      "{'restaurant_Primanti_Bros': 'right', 'gates_B_26-50': 'ahead', 'airline_American': 'right', 'airline_Alaska': 'right', 'airline_Spirit': 'right'}\n"
     ]
    }
   ],
   "source": [
    "# response_cut = str(response.json()['choices'][0]['message']['content'])\n",
    "# response_dict = response_cut[response_cut.find('{'):]\n",
    "\n",
    "# cleaned_dict = {}\n",
    "# total_places = response_dict.count(':')\n",
    "# for i in range(total_places):\n",
    "#     this_key_full = response_dict[:response_dict.find(':')].strip()\n",
    "#     this_key = this_key_full[this_key_full.find(' '):].strip()\n",
    "#     response_dict = response_dict[response_dict.find(':') + 1:]\n",
    "\n",
    "#     if i == total_places - 1:\n",
    "#         this_value = response_dict[:response_dict.find('}')].strip()\n",
    "#     else:\n",
    "#         this_value = response_dict[:response_dict.find(',')].strip()\n",
    "\n",
    "#     cleaned_dict[this_key.strip('\"')] = this_value.strip('\"')\n",
    "\n",
    "# print(cleaned_dict)"
   ]
  }
 ],
 "metadata": {
  "kernelspec": {
   "display_name": "mit-hack",
   "language": "python",
   "name": "python3"
  },
  "language_info": {
   "codemirror_mode": {
    "name": "ipython",
    "version": 3
   },
   "file_extension": ".py",
   "mimetype": "text/x-python",
   "name": "python",
   "nbconvert_exporter": "python",
   "pygments_lexer": "ipython3",
   "version": "3.10.12"
  }
 },
 "nbformat": 4,
 "nbformat_minor": 2
}
